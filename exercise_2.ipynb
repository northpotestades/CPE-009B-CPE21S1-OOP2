{
  "nbformat": 4,
  "nbformat_minor": 0,
  "metadata": {
    "colab": {
      "provenance": [],
      "authorship_tag": "ABX9TyOymqIprhiXy9QmjGZi8wrW",
      "include_colab_link": true
    },
    "kernelspec": {
      "name": "python3",
      "display_name": "Python 3"
    },
    "language_info": {
      "name": "python"
    }
  },
  "cells": [
    {
      "cell_type": "markdown",
      "metadata": {
        "id": "view-in-github",
        "colab_type": "text"
      },
      "source": [
        "<a href=\"https://colab.research.google.com/github/northpotestades/CPE-009B-CPE21S1-OOP2/blob/main/exercise_2.ipynb\" target=\"_parent\"><img src=\"https://colab.research.google.com/assets/colab-badge.svg\" alt=\"Open In Colab\"/></a>"
      ]
    },
    {
      "cell_type": "code",
      "execution_count": 9,
      "metadata": {
        "colab": {
          "base_uri": "https://localhost:8080/"
        },
        "id": "ns5J3YpEPoaG",
        "outputId": "c20a90bf-54a5-4214-d81a-db61929f8e98"
      },
      "outputs": [
        {
          "output_type": "stream",
          "name": "stdout",
          "text": [
            "Input your grade: 90\n",
            "Your grade of 90.0 is Passed\n"
          ]
        }
      ],
      "source": [
        "grade=float(input(\"Input your grade: \"))\n",
        "if grade<0:\n",
        "  print(grade,\"is a negative number! Please enter again.\")\n",
        "elif grade>=75:\n",
        "  print(\"Your grade of\",grade,\"is Passed\")\n",
        "elif grade==74:\n",
        "  print(\"Your grade of\",grade,\"is Remedial\")\n",
        "else:\n",
        "  print(\"Your grade of\",grade,\"is Failed\")"
      ]
    }
  ]
}