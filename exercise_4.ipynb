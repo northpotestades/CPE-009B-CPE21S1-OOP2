{
  "nbformat": 4,
  "nbformat_minor": 0,
  "metadata": {
    "colab": {
      "provenance": [],
      "authorship_tag": "ABX9TyM+pa1x3McK0z6ogXn8y+ym",
      "include_colab_link": true
    },
    "kernelspec": {
      "name": "python3",
      "display_name": "Python 3"
    },
    "language_info": {
      "name": "python"
    }
  },
  "cells": [
    {
      "cell_type": "markdown",
      "metadata": {
        "id": "view-in-github",
        "colab_type": "text"
      },
      "source": [
        "<a href=\"https://colab.research.google.com/github/northpotestades/CPE-009B-CPE21S1-OOP2/blob/main/exercise_4.ipynb\" target=\"_parent\"><img src=\"https://colab.research.google.com/assets/colab-badge.svg\" alt=\"Open In Colab\"/></a>"
      ]
    },
    {
      "cell_type": "code",
      "execution_count": 9,
      "metadata": {
        "colab": {
          "base_uri": "https://localhost:8080/"
        },
        "id": "DRawu78uJJzq",
        "outputId": "6f8b207b-9496-488a-e26e-24d43922a924"
      },
      "outputs": [
        {
          "output_type": "execute_result",
          "data": {
            "text/plain": [
              "7"
            ]
          },
          "metadata": {},
          "execution_count": 9
        }
      ],
      "source": [
        "#Encapsulation example 1\n",
        "\n",
        "class foo:\n",
        "  def __init__(self, a, b):\n",
        "    self.a = a\n",
        "    self.b = b\n",
        "  def add(self):\n",
        "    return self.a + self.b\n",
        "\n",
        "foo_object = foo(3,4)\n",
        "foo_object.add()"
      ]
    },
    {
      "cell_type": "code",
      "source": [
        "#Encapsulation additional\n",
        "\n",
        "class Person:\n",
        "  def __init__(self,name,age):\n",
        "    self.name=name\n",
        "    self.age=age\n",
        "  def display(self):\n",
        "    return f\"My name is {self.name}, and my age is {self.age}\"\n",
        "\n",
        "p1=Person(\"Ana\",15)\n",
        "p1.display()"
      ],
      "metadata": {
        "colab": {
          "base_uri": "https://localhost:8080/",
          "height": 35
        },
        "id": "Z_SCFBTwNP5a",
        "outputId": "9866d21a-3c53-4cc4-ea6c-07c9e78299c4"
      },
      "execution_count": 10,
      "outputs": [
        {
          "output_type": "execute_result",
          "data": {
            "text/plain": [
              "'My name is Ana, and my age is 15'"
            ],
            "application/vnd.google.colaboratory.intrinsic+json": {
              "type": "string"
            }
          },
          "metadata": {},
          "execution_count": 10
        }
      ]
    },
    {
      "cell_type": "code",
      "source": [
        "#Encapsulation example 2\n",
        "\n",
        "class Counter:\n",
        "  def __init__(self):\n",
        "    self.current = 0\n",
        "  def increment(self):\n",
        "    self.current += 1\n",
        "  def value(self):\n",
        "    return self.current\n",
        "  def reset(self):\n",
        "    self.current = 0\n",
        "\n",
        "counter = Counter()\n",
        "counter.increment()\n",
        "counter.increment()\n",
        "counter.increment()\n",
        "print(counter.value())"
      ],
      "metadata": {
        "colab": {
          "base_uri": "https://localhost:8080/"
        },
        "id": "OxUnBlB5K187",
        "outputId": "0419e4ad-7a54-447f-8341-4cdb42166c16"
      },
      "execution_count": 11,
      "outputs": [
        {
          "output_type": "stream",
          "name": "stdout",
          "text": [
            "3\n"
          ]
        }
      ]
    },
    {
      "cell_type": "code",
      "source": [
        "#Polymorphism\n",
        "\n",
        "class RegularPolygon:\n",
        "  def __init__(self,side):\n",
        "    self.side = side\n",
        "class Square(RegularPolygon):\n",
        "  def area(self):\n",
        "    return self.side * self.side\n",
        "class EquilateralTriangle(RegularPolygon):\n",
        "  def area(self):\n",
        "    return self.side * self.side * 0.433\n",
        "\n",
        "side=float(input(\"Enter the side measurement: \"))\n",
        "print(Square(side).area())\n",
        "print(EquilateralTriangle(side).area())"
      ],
      "metadata": {
        "colab": {
          "base_uri": "https://localhost:8080/"
        },
        "id": "-TaauqgYP-sJ",
        "outputId": "ca1a8c30-3c93-458c-b68b-7bf3cebf62af"
      },
      "execution_count": 17,
      "outputs": [
        {
          "output_type": "stream",
          "name": "stdout",
          "text": [
            "Enter the side measurement: 5\n",
            "25.0\n",
            "10.825\n"
          ]
        }
      ]
    },
    {
      "cell_type": "code",
      "source": [
        "#Application 1\n",
        "\n",
        "class Person:\n",
        "  def __init__(self,pre,mid,fin):\n",
        "    self.__std1=\"John\"\n",
        "    self.__std2=\"Madden\"\n",
        "    self.__std3=\"Aeiou\"\n",
        "    self.__pre=pre\n",
        "    self.__mid=mid\n",
        "    self.__fin=fin\n",
        "  def Grade(self):\n",
        "    return f\"Their average grade is {(self.__pre+self.__mid+self.__fin)/3}.\"\n",
        "  def Std1(self):\n",
        "    return f\"Student 1 is {self.__std1}.\"\n",
        "  def Std2(self):\n",
        "    return f\"Student 2 is {self.__std2}.\"\n",
        "  def Std3(self):\n",
        "    return f\"Student 3 is {self.__std3}.\"\n",
        "\n",
        "student1=Person(30,40,50)\n",
        "student2=Person(60,70,80)\n",
        "student3=Person(90,80,70)\n",
        "print(student1.Std1())\n",
        "print(student1.Grade())\n",
        "print(student2.Std2())\n",
        "print(student2.Grade())\n",
        "print(student3.Std3())\n",
        "print(student3.Grade())"
      ],
      "metadata": {
        "colab": {
          "base_uri": "https://localhost:8080/"
        },
        "id": "raTb7_tyQBGf",
        "outputId": "502497f5-e253-4a4c-e815-31959360d588"
      },
      "execution_count": 26,
      "outputs": [
        {
          "output_type": "stream",
          "name": "stdout",
          "text": [
            "Student 1 is John.\n",
            "Their average grade is 40.0.\n",
            "Student 2 is Madden.\n",
            "Their average grade is 70.0.\n",
            "Student 3 is Aeiou.\n",
            "Their average grade is 80.0.\n"
          ]
        }
      ]
    }
  ]
}