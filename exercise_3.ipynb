{
  "nbformat": 4,
  "nbformat_minor": 0,
  "metadata": {
    "colab": {
      "provenance": [],
      "authorship_tag": "ABX9TyP3nIJWtjDrVDmfvK6bl2cx",
      "include_colab_link": true
    },
    "kernelspec": {
      "name": "python3",
      "display_name": "Python 3"
    },
    "language_info": {
      "name": "python"
    }
  },
  "cells": [
    {
      "cell_type": "markdown",
      "metadata": {
        "id": "view-in-github",
        "colab_type": "text"
      },
      "source": [
        "<a href=\"https://colab.research.google.com/github/northpotestades/CPE-009B-CPE21S1-OOP2/blob/main/exercise_3.ipynb\" target=\"_parent\"><img src=\"https://colab.research.google.com/assets/colab-badge.svg\" alt=\"Open In Colab\"/></a>"
      ]
    },
    {
      "cell_type": "code",
      "execution_count": 13,
      "metadata": {
        "colab": {
          "base_uri": "https://localhost:8080/"
        },
        "id": "12ZY2JoJGVBk",
        "outputId": "a5d8fde6-471a-4d8e-ff25-c9d224cf8276"
      },
      "outputs": [
        {
          "output_type": "stream",
          "name": "stdout",
          "text": [
            "The Sedan car has a color black.\n"
          ]
        }
      ],
      "source": [
        "#Create a class\n",
        "\n",
        "class Car:     #name of class\n",
        "  def __init__(self,name,color):\n",
        "    self.name=name     #property name\n",
        "    self.color=color\n",
        "\n",
        "  def description(self):     #class methods\n",
        "    return f\"The {self.name} car has a color {self.color}.\"\n",
        "\n",
        "car=Car(\"Sedan\",\"black\")     #object name\n",
        "print(car.description())"
      ]
    },
    {
      "cell_type": "code",
      "source": [
        "#Inheritance\n",
        "\n",
        "class Car:     #name of class\n",
        "  def __init__(self,name,color):\n",
        "    self.name=name     #property name\n",
        "    self.color=color\n",
        "  def description(self):     #class methods\n",
        "    return f\"The {self.name} car has a color {self.color}.\"\n",
        "\n",
        "class BMW(Car):     #Subclass/Child class\n",
        "  pass\n",
        "\n",
        "class Audi(Car):     #Subclass/Child class\n",
        "  def audi_description(self):\n",
        "    return \"The description of this car is an Audi\"\n",
        "\n",
        "bmw=BMW(\"A\",\"red\")     #Creating an object\n",
        "print(bmw.description())\n",
        "\n",
        "audi=Audi(\"B\",\"blue\")\n",
        "print(audi.description())\n",
        "print(audi.audi_description())"
      ],
      "metadata": {
        "colab": {
          "base_uri": "https://localhost:8080/"
        },
        "id": "2Gr_0X3AQmq9",
        "outputId": "ae3a00b3-0f3d-4824-8bf5-5e952d9cb22c"
      },
      "execution_count": 14,
      "outputs": [
        {
          "output_type": "stream",
          "name": "stdout",
          "text": [
            "The A car has a color red.\n",
            "The B car has a color blue.\n",
            "The description of this car is an Audi\n"
          ]
        }
      ]
    },
    {
      "cell_type": "code",
      "source": [
        "class Rectangle:\n",
        "  def __init__(self,length,width):\n",
        "    self.length=length\n",
        "    self.width=width\n",
        "\n",
        "  def Perimeter(self):\n",
        "    return f\"The perimeter of the rectangle is {2*(self.length+self.width)}.\"\n",
        "\n",
        "  def Area(self):\n",
        "    return f\"The area of the rectangle is {self.length*self.width}\"\n",
        "\n",
        "length=float(input(\"Enter the length of the rectangle: \"))\n",
        "width=float(input(\"Enter the width of the rectangle: \"))\n",
        "\n",
        "rectangle=Rectangle(length,width)\n",
        "print(rectangle.Perimeter())\n",
        "print(rectangle.Area())"
      ],
      "metadata": {
        "colab": {
          "base_uri": "https://localhost:8080/"
        },
        "id": "8qi44rlDXok9",
        "outputId": "0b5d12f9-d481-4bd4-b070-e81a90849325"
      },
      "execution_count": 18,
      "outputs": [
        {
          "output_type": "stream",
          "name": "stdout",
          "text": [
            "Enter the length of the rectangle: 12\n",
            "Enter the width of the rectangle: 3.5\n",
            "The perimeter of the rectangle is 31.0.\n",
            "The area of the rectangle is 42.0\n"
          ]
        }
      ]
    }
  ]
}