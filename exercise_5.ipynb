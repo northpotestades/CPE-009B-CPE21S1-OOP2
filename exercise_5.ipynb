{
  "nbformat": 4,
  "nbformat_minor": 0,
  "metadata": {
    "colab": {
      "provenance": [],
      "authorship_tag": "ABX9TyPLOfG36McioggMXGI81gji",
      "include_colab_link": true
    },
    "kernelspec": {
      "name": "python3",
      "display_name": "Python 3"
    },
    "language_info": {
      "name": "python"
    }
  },
  "cells": [
    {
      "cell_type": "markdown",
      "metadata": {
        "id": "view-in-github",
        "colab_type": "text"
      },
      "source": [
        "<a href=\"https://colab.research.google.com/github/northpotestades/CPE-009B-CPE21S1-OOP2/blob/main/exercise_5.ipynb\" target=\"_parent\"><img src=\"https://colab.research.google.com/assets/colab-badge.svg\" alt=\"Open In Colab\"/></a>"
      ]
    },
    {
      "cell_type": "code",
      "execution_count": 7,
      "metadata": {
        "id": "WuwPlAyS_IJU",
        "colab": {
          "base_uri": "https://localhost:8080/"
        },
        "outputId": "9ffb26be-bff2-416c-c10d-3394a467db22"
      },
      "outputs": [
        {
          "output_type": "stream",
          "name": "stdout",
          "text": [
            "As a student, I do studying, playing, dancing, singing\n",
            "As a teacher, I do teaching, socializing, participating\n"
          ]
        }
      ],
      "source": [
        "#Polymorphism\n",
        "\n",
        "class Person:\n",
        "  def __init__(self,name,age):\n",
        "    self.name=name\n",
        "    self.age=age\n",
        "\n",
        "#Inherits the attributes of a person\n",
        "class Student(Person):\n",
        "  def traits(self):\n",
        "    return \"studying, playing, dancing, singing\"\n",
        "\n",
        "class Teacher(Person):\n",
        "  def traits(self):\n",
        "    return \"teaching, socializing, participating\"\n",
        "\n",
        "student=Student(\"Ana\",20)\n",
        "teacher=Teacher(\"Ma'am Sayo\",41)\n",
        "\n",
        "print(\"As a student, I do\",student.traits())\n",
        "print(\"As a teacher, I do\",teacher.traits())"
      ]
    },
    {
      "cell_type": "code",
      "source": [
        "#Challenge #1\n",
        "#Design a program with polymorphism\n",
        "\n",
        "class Vehicles:\n",
        "  def __init__(self,wheels,model,manufacturer):\n",
        "    self.wheels=wheels\n",
        "    self.model=model\n",
        "    self.manufacturer=manufacturer\n",
        "\n",
        "class Car(Vehicles):\n",
        "  def description(self):\n",
        "    print(f\"I am a car called {self.model}, I have {self.wheels} wheels and am made by {self.manufacturer}.\")\n",
        "\n",
        "class Truck(Vehicles):\n",
        "  def description(self):\n",
        "    print(f\"I am a truck called {self.model}, I have {self.wheels} wheels and am made by {self.manufacturer}.\")\n",
        "\n",
        "class Motor(Vehicles):\n",
        "  def description(self):\n",
        "    print(f\"I am a motorcycle called {self.model}, I have {self.wheels} wheels and am made by {self.manufacturer}.\")\n",
        "\n",
        "car=Car(4,\"Civic 2000\",\"Honda\")\n",
        "truck=Truck(8,\"N-Series 2024\",\"Isuzu\")\n",
        "motor=Motor(2,\"Ninja 400\",\"Kawasaki\")\n",
        "\n",
        "car.description()\n",
        "truck.description()\n",
        "motor.description()"
      ],
      "metadata": {
        "colab": {
          "base_uri": "https://localhost:8080/"
        },
        "id": "40fEojCUVIB7",
        "outputId": "a240e54d-9502-4bf6-c811-ad34c2fd7e4f"
      },
      "execution_count": 6,
      "outputs": [
        {
          "output_type": "stream",
          "name": "stdout",
          "text": [
            "I am a car called Civic 2000, I have 4 wheels and am made by Honda.\n",
            "I am a truck called N-Series 2024, I have 8 wheels and am made by Isuzu.\n",
            "I am a motorcycle called Ninja 400, I have 2 wheels and am made by Kawasaki.\n"
          ]
        }
      ]
    }
  ]
}